{
  "cells": [
    {
      "cell_type": "markdown",
      "metadata": {
        "id": "view-in-github",
        "colab_type": "text"
      },
      "source": [
        "<a href=\"https://colab.research.google.com/github/wissalferc/LGM/blob/main/Develop_a_Neural_Network_that_can_read_handwriting/Develop_a_Neural_Network_that_can_read_handwriting.ipynb\" target=\"_parent\"><img src=\"https://colab.research.google.com/assets/colab-badge.svg\" alt=\"Open In Colab\"/></a>"
      ]
    },
    {
      "cell_type": "markdown",
      "id": "094af54e",
      "metadata": {
        "id": "094af54e"
      },
      "source": [
        "\n",
        "\n",
        "\n",
        "### Develop A Neural Network That Can Read Handwriting :\n"
      ]
    },
    {
      "cell_type": "markdown",
      "id": "915ba81d",
      "metadata": {
        "id": "915ba81d"
      },
      "source": [
        "### Dataset link : https://en.wikipedia.org/wiki/MNIST_database"
      ]
    },
    {
      "cell_type": "markdown",
      "id": "4f5eb02d",
      "metadata": {
        "id": "4f5eb02d"
      },
      "source": [
        "## Importing Libraries"
      ]
    },
    {
      "cell_type": "code",
      "execution_count": 38,
      "id": "a8fc8396",
      "metadata": {
        "id": "a8fc8396"
      },
      "outputs": [],
      "source": [
        "#Importing packages\n",
        "import tensorflow as tf\n",
        "import numpy as np\n",
        "from matplotlib import pyplot as plt\n",
        "import seaborn as sns"
      ]
    },
    {
      "cell_type": "markdown",
      "id": "7b467aee",
      "metadata": {
        "id": "7b467aee"
      },
      "source": [
        "## Loading dataset"
      ]
    },
    {
      "cell_type": "code",
      "execution_count": 39,
      "id": "e1ea863f",
      "metadata": {
        "id": "e1ea863f"
      },
      "outputs": [],
      "source": [
        "#loading dataset\n",
        "(x_train,y_train),(x_test,y_test)=tf.keras.datasets.mnist.load_data()"
      ]
    },
    {
      "cell_type": "markdown",
      "id": "cbd19e7b",
      "metadata": {
        "id": "cbd19e7b"
      },
      "source": [
        "## Plotting count plot"
      ]
    },
    {
      "cell_type": "code",
      "execution_count": 40,
      "id": "e14fdc71",
      "metadata": {
        "colab": {
          "base_uri": "https://localhost:8080/",
          "height": 555
        },
        "id": "e14fdc71",
        "outputId": "75a2d14e-5682-40e2-827c-cf0f985a2056"
      },
      "outputs": [
        {
          "output_type": "stream",
          "name": "stderr",
          "text": [
            "/usr/local/lib/python3.8/dist-packages/seaborn/_decorators.py:36: FutureWarning: Pass the following variable as a keyword arg: x. From version 0.12, the only valid positional argument will be `data`, and passing other arguments without an explicit keyword will result in an error or misinterpretation.\n",
            "  warnings.warn(\n"
          ]
        },
        {
          "output_type": "execute_result",
          "data": {
            "text/plain": [
              "<matplotlib.axes._subplots.AxesSubplot at 0x7f3c12b134f0>"
            ]
          },
          "metadata": {},
          "execution_count": 40
        },
        {
          "output_type": "display_data",
          "data": {
            "text/plain": [
              "<Figure size 720x576 with 1 Axes>"
            ],
            "image/png": "[encoded data removed]"
          },
          "metadata": {
            "needs_background": "light"
          }
        }
      ],
      "source": [
        "plt.figure(figsize = (10,8))\n",
        "sns.countplot(y_train)"
      ]
    },
    {
      "cell_type": "markdown",
      "id": "3b6b4200",
      "metadata": {
        "id": "3b6b4200"
      },
      "source": [
        "## Displaying some images"
      ]
    },
    {
      "cell_type": "code",
      "execution_count": 41,
      "id": "effc743d",
      "metadata": {
        "colab": {
          "base_uri": "https://localhost:8080/",
          "height": 147
        },
        "id": "effc743d",
        "outputId": "809154ad-c93c-4f62-89cf-81fd255ae8c5"
      },
      "outputs": [
        {
          "output_type": "display_data",
          "data": {
            "text/plain": [
              "<Figure size 720x288 with 5 Axes>"
            ],
            "image/png": "[encoded data removed]"
          },
          "metadata": {
            "needs_background": "light"
          }
        }
      ],
      "source": [
        "#Dataset properties\n",
        "# Display some images\n",
        "fig, axes = plt.subplots(ncols=5, sharex=False, \n",
        "    sharey=True, figsize=(10, 4))\n",
        "for i in range(5):\n",
        "    axes[i].set_title(y_train[i])\n",
        "    axes[i].imshow(x_train[i], cmap='gray_r')\n",
        "    axes[i].get_xaxis().set_visible(False)\n",
        "    axes[i].get_yaxis().set_visible(False)\n",
        "plt.show()"
      ]
    },
    {
      "cell_type": "markdown",
      "id": "397b63d9",
      "metadata": {
        "id": "397b63d9"
      },
      "source": [
        "### Pre-processing the data"
      ]
    },
    {
      "cell_type": "code",
      "execution_count": 33,
      "id": "31f5f263",
      "metadata": {
        "colab": {
          "base_uri": "https://localhost:8080/"
        },
        "id": "31f5f263",
        "outputId": "c21296c6-5a9e-4d3c-aca8-75a7e2d3292c"
      },
      "outputs": [
        {
          "output_type": "stream",
          "name": "stdout",
          "text": [
            "Training images shape :  (60000, 28, 28)\n",
            "Testing images shape :  (10000, 28, 28)\n"
          ]
        }
      ],
      "source": [
        "# Pre-processing the data\n",
        "print('Training images shape : ',x_train.shape)\n",
        "print('Testing images shape : ',x_test.shape)"
      ]
    },
    {
      "cell_type": "code",
      "execution_count": 34,
      "id": "37e1cf3e",
      "metadata": {
        "id": "37e1cf3e"
      },
      "outputs": [],
      "source": [
        "x_train = x_train.reshape(x_train.shape[0], 28, 28, 1)\n",
        "x_test = x_test.reshape(x_test.shape[0], 28, 28, 1)\n",
        "input_shape = (28, 28, 1)\n"
      ]
    },
    {
      "cell_type": "code",
      "execution_count": 35,
      "id": "f163729a",
      "metadata": {
        "id": "f163729a"
      },
      "outputs": [],
      "source": [
        "#applying normalization\n",
        "x_train=x_train/255.0\n",
        "x_testg=x_test/255.0\n",
        "num_classes = 10"
      ]
    },
    {
      "cell_type": "markdown",
      "id": "969c4166",
      "metadata": {
        "id": "969c4166"
      },
      "source": [
        "## Creating the model\n",
        "### Model Architecture\n",
        "We will have to first build the model architecture and define it based on our dataset. We are going to add the following layers:\n",
        "\n",
        "1. Conv2D - for the convolution layers\n",
        "2. Dropout - to prevent overfitting\n",
        "3. Dense - a fully connected layer\n",
        "4. Softmax activation - This is used to convert all predictions into probability\n",
        "The model architecture can be tuned to get optimal performance\n",
        "\n",
        "so i am goimg to create a model with\n",
        "\n",
        "#### CNN + Three layers + relu + (3,3) kernel_size + Dropout rate (0.3)"
      ]
    },
    {
      "cell_type": "code",
      "execution_count": 8,
      "id": "924bd97a",
      "metadata": {
        "id": "924bd97a"
      },
      "outputs": [],
      "source": [
        "from tensorflow.keras.models import Sequential\n",
        "from tensorflow.keras.layers import Dense, Dropout, Flatten,Activation\n",
        "from tensorflow.keras.layers import Conv2D,MaxPooling2D\n",
        "from tensorflow.keras.layers import BatchNormalization"
      ]
    },
    {
      "cell_type": "code",
      "execution_count": 9,
      "id": "31b9606c",
      "metadata": {
        "id": "31b9606c"
      },
      "outputs": [],
      "source": [
        "model = Sequential()\n",
        "\n",
        "model.add(Conv2D(128, kernel_size=(3, 3),\n",
        "                 activation=tf.nn.relu,\n",
        "                 input_shape=input_shape))\n",
        "model.add(BatchNormalization())\n",
        "model.add(Dropout(0.3))\n",
        "\n",
        "model.add(Conv2D(64, (3, 3), activation=tf.nn.relu))\n",
        "model.add(BatchNormalization())\n",
        "model.add(Dropout(0.3))\n",
        "\n",
        "model.add(Conv2D(32, (3, 3), activation=tf.nn.relu))\n",
        "model.add(BatchNormalization())\n",
        "model.add(Dropout(0.3))\n",
        "\n",
        "\n",
        "model.add(MaxPooling2D(pool_size=(2, 2)))\n",
        "model.add(Dropout(0.3))\n",
        "model.add(Flatten())\n",
        "model.add(Dense(128, activation=tf.nn.relu))\n",
        "model.add(Dropout(0.3))\n",
        "model.add(Dense(num_classes, activation=tf.nn.softmax))"
      ]
    },
    {
      "cell_type": "code",
      "execution_count": 10,
      "id": "d899a8b7",
      "metadata": {
        "colab": {
          "base_uri": "https://localhost:8080/"
        },
        "id": "d899a8b7",
        "outputId": "e45d06fc-2890-4633-eb26-787a4112f37d"
      },
      "outputs": [
        {
          "output_type": "stream",
          "name": "stdout",
          "text": [
            "Model: \"sequential\"\n",
            "_________________________________________________________________\n",
            " Layer (type)                Output Shape              Param #   \n",
            "=================================================================\n",
            " conv2d (Conv2D)             (None, 26, 26, 128)       1280      \n",
            "                                                                 \n",
            " batch_normalization (BatchN  (None, 26, 26, 128)      512       \n",
            " ormalization)                                                   \n",
            "                                                                 \n",
            " dropout (Dropout)           (None, 26, 26, 128)       0         \n",
            "                                                                 \n",
            " conv2d_1 (Conv2D)           (None, 24, 24, 64)        73792     \n",
            "                                                                 \n",
            " batch_normalization_1 (Batc  (None, 24, 24, 64)       256       \n",
            " hNormalization)                                                 \n",
            "                                                                 \n",
            " dropout_1 (Dropout)         (None, 24, 24, 64)        0         \n",
            "                                                                 \n",
            " conv2d_2 (Conv2D)           (None, 22, 22, 32)        18464     \n",
            "                                                                 \n",
            " batch_normalization_2 (Batc  (None, 22, 22, 32)       128       \n",
            " hNormalization)                                                 \n",
            "                                                                 \n",
            " dropout_2 (Dropout)         (None, 22, 22, 32)        0         \n",
            "                                                                 \n",
            " max_pooling2d (MaxPooling2D  (None, 11, 11, 32)       0         \n",
            " )                                                               \n",
            "                                                                 \n",
            " dropout_3 (Dropout)         (None, 11, 11, 32)        0         \n",
            "                                                                 \n",
            " flatten (Flatten)           (None, 3872)              0         \n",
            "                                                                 \n",
            " dense (Dense)               (None, 128)               495744    \n",
            "                                                                 \n",
            " dropout_4 (Dropout)         (None, 128)               0         \n",
            "                                                                 \n",
            " dense_1 (Dense)             (None, 10)                1290      \n",
            "                                                                 \n",
            "=================================================================\n",
            "Total params: 591,466\n",
            "Trainable params: 591,018\n",
            "Non-trainable params: 448\n",
            "_________________________________________________________________\n"
          ]
        }
      ],
      "source": [
        "model.summary()"
      ]
    },
    {
      "cell_type": "markdown",
      "id": "849533db",
      "metadata": {
        "id": "849533db"
      },
      "source": [
        "## Training the model"
      ]
    },
    {
      "cell_type": "code",
      "execution_count": 11,
      "id": "32a2e65a",
      "metadata": {
        "colab": {
          "base_uri": "https://localhost:8080/"
        },
        "id": "32a2e65a",
        "outputId": "b0fdfd88-f17c-46d1-8bd0-eacd3d0c8d86"
      },
      "outputs": [
        {
          "output_type": "stream",
          "name": "stdout",
          "text": [
            "Epoch 1/10\n",
            "1688/1688 [==============================] - 634s 375ms/step - loss: 0.2523 - accuracy: 0.9259 - val_loss: 0.0738 - val_accuracy: 0.9830\n",
            "Epoch 2/10\n",
            "1688/1688 [==============================] - 633s 375ms/step - loss: 0.1068 - accuracy: 0.9694 - val_loss: 0.0769 - val_accuracy: 0.9832\n",
            "Epoch 3/10\n",
            "1688/1688 [==============================] - 629s 372ms/step - loss: 0.0840 - accuracy: 0.9754 - val_loss: 0.0748 - val_accuracy: 0.9868\n",
            "Epoch 4/10\n",
            "1688/1688 [==============================] - 632s 374ms/step - loss: 0.0709 - accuracy: 0.9794 - val_loss: 0.1130 - val_accuracy: 0.9815\n",
            "Epoch 5/10\n",
            "1688/1688 [==============================] - 633s 375ms/step - loss: 0.0625 - accuracy: 0.9819 - val_loss: 0.1230 - val_accuracy: 0.9833\n",
            "Epoch 6/10\n",
            "1688/1688 [==============================] - 640s 379ms/step - loss: 0.0586 - accuracy: 0.9829 - val_loss: 0.1066 - val_accuracy: 0.9843\n",
            "Epoch 7/10\n",
            "1688/1688 [==============================] - 661s 392ms/step - loss: 0.0521 - accuracy: 0.9852 - val_loss: 0.1223 - val_accuracy: 0.9818\n",
            "Epoch 8/10\n",
            "1688/1688 [==============================] - 656s 389ms/step - loss: 0.0453 - accuracy: 0.9866 - val_loss: 0.1298 - val_accuracy: 0.9830\n",
            "Epoch 9/10\n",
            "1688/1688 [==============================] - 640s 379ms/step - loss: 0.0421 - accuracy: 0.9871 - val_loss: 0.0981 - val_accuracy: 0.9860\n",
            "Epoch 10/10\n",
            "1688/1688 [==============================] - 635s 376ms/step - loss: 0.0394 - accuracy: 0.9883 - val_loss: 0.1006 - val_accuracy: 0.9868\n"
          ]
        }
      ],
      "source": [
        "# Train the model\n",
        "model.compile(optimizer='adam', \n",
        "              loss='sparse_categorical_crossentropy', \n",
        "              metrics=['accuracy'])\n",
        "history=model.fit(x=x_train,\n",
        "                  y=y_train,\n",
        "                  validation_split=0.1,\n",
        "                  epochs=10)\n"
      ]
    },
    {
      "cell_type": "markdown",
      "id": "1d19d065",
      "metadata": {
        "id": "1d19d065"
      },
      "source": [
        "### Saving and loading the model"
      ]
    },
    {
      "cell_type": "code",
      "execution_count": 12,
      "id": "c8d8c6d4",
      "metadata": {
        "id": "c8d8c6d4"
      },
      "outputs": [],
      "source": [
        "model.save('MNproject.h5')"
      ]
    },
    {
      "cell_type": "code",
      "execution_count": 44,
      "id": "210312ea",
      "metadata": {
        "id": "210312ea"
      },
      "outputs": [],
      "source": [
        "from tensorflow.keras.models import load_model\n",
        "model = load_model('MNproject.h5')"
      ]
    },
    {
      "cell_type": "markdown",
      "id": "57c4b31f",
      "metadata": {
        "id": "57c4b31f"
      },
      "source": [
        "### Evaluating the model"
      ]
    },
    {
      "cell_type": "code",
      "execution_count": 14,
      "id": "fadefe61",
      "metadata": {
        "colab": {
          "base_uri": "https://localhost:8080/"
        },
        "id": "fadefe61",
        "outputId": "a8a44e4e-94f8-4a2a-95a3-324622d681cd"
      },
      "outputs": [
        {
          "output_type": "stream",
          "name": "stdout",
          "text": [
            "313/313 [==============================] - 26s 81ms/step - loss: 2.6793 - accuracy: 0.9877\n",
            "Test Loss 2.6792502403259277\n",
            "Test Accuracy 0.9876999855041504\n"
          ]
        }
      ],
      "source": [
        "# Evaluate the model\n",
        "loss_and_acc=model.evaluate(x_test,y_test)\n",
        "print(\"Test Loss\", loss_and_acc[0])\n",
        "print(\"Test Accuracy\", loss_and_acc[1])"
      ]
    },
    {
      "cell_type": "markdown",
      "id": "60007fd4",
      "metadata": {
        "id": "60007fd4"
      },
      "source": [
        "## Plotting Training & Validation plots"
      ]
    },
    {
      "cell_type": "code",
      "execution_count": 15,
      "id": "d1114a56",
      "metadata": {
        "colab": {
          "base_uri": "https://localhost:8080/",
          "height": 401
        },
        "id": "d1114a56",
        "outputId": "e19d7a9f-0258-49cd-b33e-693a8e14d912"
      },
      "outputs": [
        {
          "output_type": "display_data",
          "data": {
            "text/plain": [
              "<Figure size 1440x432 with 2 Axes>"
            ],
            "image/png": "[encoded data removed]"
          },
          "metadata": {
            "needs_background": "light"
          }
        }
      ],
      "source": [
        "acc = history.history['accuracy']\n",
        "val_acc = history.history['val_accuracy']\n",
        "loss = history.history['loss']\n",
        "val_loss = history.history['val_loss']\n",
        "epochs = range(len(acc))\n",
        "\n",
        "fig, ax = plt.subplots(nrows=1, ncols=2, figsize=(20, 6))\n",
        "ax[0].plot(epochs, acc, 'y', label='Training accuracy')\n",
        "ax[0].plot(epochs, val_acc, 'g', label='Validation accuracy')\n",
        "ax[0].legend(loc=0)\n",
        "ax[1].plot(epochs, loss, 'y', label='Training loss')\n",
        "ax[1].plot(epochs, val_loss, 'g', label='Validation loss')\n",
        "ax[1].legend(loc=0)\n",
        "\n",
        "plt.suptitle('Training and validation')\n",
        "plt.show()"
      ]
    },
    {
      "cell_type": "code",
      "execution_count": 16,
      "id": "7fca05a0",
      "metadata": {
        "colab": {
          "base_uri": "https://localhost:8080/"
        },
        "id": "7fca05a0",
        "outputId": "b7475f51-b58e-49a5-dd60-82a1520251af"
      },
      "outputs": [
        {
          "output_type": "stream",
          "name": "stdout",
          "text": [
            "313/313 [==============================] - 24s 76ms/step\n"
          ]
        },
        {
          "output_type": "execute_result",
          "data": {
            "text/plain": [
              "<tf.Tensor: shape=(10, 10), dtype=int32, numpy=\n",
              "array([[ 978,    0,    1,    0,    0,    0,    0,    0,    1,    0],\n",
              "       [   0, 1121,    2,    0,    2,    1,    7,    1,    1,    0],\n",
              "       [   2,    1, 1025,    0,    1,    0,    0,    3,    0,    0],\n",
              "       [   0,    0,    8,  998,    0,    2,    0,    0,    2,    0],\n",
              "       [   0,    0,    0,    0,  977,    0,    2,    0,    1,    2],\n",
              "       [   1,    0,    1,    4,    0,  882,    2,    0,    1,    1],\n",
              "       [   5,    0,    3,    0,    1,    1,  945,    0,    3,    0],\n",
              "       [   0,    2,   19,    2,    1,    1,    0, 1002,    0,    1],\n",
              "       [   2,    0,    1,    1,    0,    0,    0,    0,  970,    0],\n",
              "       [   4,    0,    0,    1,    8,    1,    0,    3,   13,  979]],\n",
              "      dtype=int32)>"
            ]
          },
          "metadata": {},
          "execution_count": 16
        }
      ],
      "source": [
        "# Confusion Matrix\n",
        "y_predicted = model.predict(x_test)\n",
        "y_predicted_labels = [np.argmax(i) for i in y_predicted]\n",
        "cm = tf.math.confusion_matrix(labels=y_test,predictions=y_predicted_labels)\n",
        "cm"
      ]
    },
    {
      "cell_type": "markdown",
      "id": "910483c6",
      "metadata": {
        "id": "910483c6"
      },
      "source": [
        "### Plotting heat map"
      ]
    },
    {
      "cell_type": "code",
      "execution_count": 19,
      "id": "ba7577e0",
      "metadata": {
        "colab": {
          "base_uri": "https://localhost:8080/",
          "height": 459
        },
        "id": "ba7577e0",
        "outputId": "435523a9-a46d-4ec7-a320-9f0430eff616"
      },
      "outputs": [
        {
          "output_type": "execute_result",
          "data": {
            "text/plain": [
              "Text(69.0, 0.5, 'Truth')"
            ]
          },
          "metadata": {},
          "execution_count": 19
        },
        {
          "output_type": "display_data",
          "data": {
            "text/plain": [
              "<Figure size 720x504 with 2 Axes>"
            ],
            "image/png": "[encoded data removed]"
          },
          "metadata": {
            "needs_background": "light"
          }
        }
      ],
      "source": [
        "plt.figure(figsize = (10,7))\n",
        "sns.heatmap(cm, annot=True, fmt='d', cmap = 'coolwarm')\n",
        "plt.xlabel('Predicted')\n",
        "plt.ylabel('Truth')"
      ]
    },
    {
      "cell_type": "markdown",
      "id": "efe07c29",
      "metadata": {
        "id": "efe07c29"
      },
      "source": [
        "## Testing the Model"
      ]
    },
    {
      "cell_type": "code",
      "execution_count": 45,
      "id": "a51e608a",
      "metadata": {
        "colab": {
          "base_uri": "https://localhost:8080/",
          "height": 316
        },
        "id": "a51e608a",
        "outputId": "30fb3ac7-817b-4f60-e045-045a33742b22"
      },
      "outputs": [
        {
          "output_type": "stream",
          "name": "stdout",
          "text": [
            "313/313 [==============================] - 27s 86ms/step\n",
            "Predicted Value:  9\n",
            "Successful prediction\n"
          ]
        },
        {
          "output_type": "display_data",
          "data": {
            "text/plain": [
              "<Figure size 432x288 with 1 Axes>"
            ],
            "image/png": "[encoded data removed]"
          },
          "metadata": {
            "needs_background": "light"
          }
        }
      ],
      "source": [
        "# Testing the Model\n",
        "plt.imshow(x_test[7],cmap='gray_r')\n",
        "plt.title('Actual Value: {}'.format(y_test[7]))\n",
        "prediction=model.predict(x_test)\n",
        "\n",
        "plt.axis('off')\n",
        "print('Predicted Value: ',np.argmax(prediction[7]))\n",
        "if(y_test[7]==(np.argmax(prediction[7]))):\n",
        "  print('Successful prediction')\n",
        "else:\n",
        "  print('Unsuccessful prediction')"
      ]
    },
    {
      "cell_type": "code",
      "execution_count": 46,
      "id": "21292cb6",
      "metadata": {
        "colab": {
          "base_uri": "https://localhost:8080/",
          "height": 316
        },
        "id": "21292cb6",
        "outputId": "bfb94912-e9eb-4d4d-cdd4-402032583e5c"
      },
      "outputs": [
        {
          "output_type": "stream",
          "name": "stdout",
          "text": [
            "313/313 [==============================] - 23s 74ms/step\n",
            "Predicted Value:  2\n",
            "Successful prediction\n"
          ]
        },
        {
          "output_type": "display_data",
          "data": {
            "text/plain": [
              "<Figure size 432x288 with 1 Axes>"
            ],
            "image/png": "[encoded data removed]"
          },
          "metadata": {
            "needs_background": "light"
          }
        }
      ],
      "source": [
        "plt.imshow(x_test[1],cmap='gray_r')\n",
        "plt.title('Actual Value: {}'.format(y_test[1]))\n",
        "prediction=model.predict(x_test)\n",
        "plt.axis('off')\n",
        "print('Predicted Value: ',np.argmax(prediction[1]))\n",
        "if(y_test[1]==(np.argmax(prediction[1]))):\n",
        "  print('Successful prediction')\n",
        "else:\n",
        "  print('Unsuccessful prediction')"
      ]
    },
    {
      "cell_type": "markdown",
      "id": "90c08daf",
      "metadata": {
        "id": "90c08daf"
      },
      "source": [
        "# THANK YOU!!:))"
      ]
    },
    {
      "cell_type": "code",
      "execution_count": null,
      "id": "9cf34d9f",
      "metadata": {
        "id": "9cf34d9f"
      },
      "outputs": [],
      "source": []
    }
  ],
  "metadata": {
    "kernelspec": {
      "display_name": "Python 3 (ipykernel)",
      "language": "python",
      "name": "python3"
    },
    "language_info": {
      "codemirror_mode": {
        "name": "ipython",
        "version": 3
      },
      "file_extension": ".py",
      "mimetype": "text/x-python",
      "name": "python",
      "nbconvert_exporter": "python",
      "pygments_lexer": "ipython3",
      "version": "3.8.5"
    },
    "colab": {
      "provenance": [],
      "include_colab_link": true
    }
  },
  "nbformat": 4,
  "nbformat_minor": 5
}